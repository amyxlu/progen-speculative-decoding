{
 "cells": [
  {
   "cell_type": "code",
   "execution_count": 1,
   "id": "6b92ccdf-db79-490f-8eca-0840aadc5889",
   "metadata": {},
   "outputs": [
    {
     "name": "stderr",
     "output_type": "stream",
     "text": [
      "/accounts/projects/jsteinhardt/fjiahai/progen-speculative-decoding/.venv/lib/python3.11/site-packages/tqdm/auto.py:21: TqdmWarning: IProgress not found. Please update jupyter and ipywidgets. See https://ipywidgets.readthedocs.io/en/stable/user_install.html\n",
      "  from .autonotebook import tqdm as notebook_tqdm\n"
     ]
    }
   ],
   "source": [
    "\n",
    "import argparse\n",
    "from pathlib import Path\n",
    "from dotenv import load_dotenv\n",
    "import os\n",
    "import torch\n",
    "\n",
    "from progen.sampling import sample, cross_entropy, truncate\n",
    "from progen.utils import create_model, create_tokenizer_custom, set_env, set_seed, print_time\n",
    "\n",
    "\n",
    "load_dotenv(verbose=True)\n",
    "CHECKPOINT_DIR = os.environ.get('CHECKPOINT_DIR', './checkpoints')"
   ]
  },
  {
   "cell_type": "code",
   "execution_count": 2,
   "id": "2b004f33-c5c4-4997-8055-0979dcddedce",
   "metadata": {},
   "outputs": [],
   "source": [
    "from progen.modeling_progen import apply_rotary_pos_emb, apply_rotary_pos_emb_pos, fixed_pos_embedding, rotate_every_two\n",
    "\n",
    "import torch"
   ]
  },
  {
   "cell_type": "code",
   "execution_count": 3,
   "id": "dcafdcb7-29b3-4932-b16c-27424e58448f",
   "metadata": {},
   "outputs": [],
   "source": [
    "\n",
    "models_151M = [ 'progen2-small' ]\n",
    "models_754M = [ 'progen2-medium', 'progen2-oas', 'progen2-base' ]\n",
    "models_2B = [ 'progen2-large', 'progen2-BFD90' ]\n",
    "models_6B = [ 'progen2-xlarge' ]\n",
    "models = models_151M + models_754M + models_2B + models_6B"
   ]
  },
  {
   "cell_type": "code",
   "execution_count": 4,
   "id": "05c2edb4-9f9f-4b48-88a4-7735b29f93a8",
   "metadata": {},
   "outputs": [],
   "source": [
    "\n",
    "parser = argparse.ArgumentParser()\n",
    "parser.add_argument('--model', type=str, choices=models, default='progen2-large')\n",
    "parser.add_argument('--device', type=str, default='cuda:0')\n",
    "parser.add_argument('--rng-seed', type=int, default=42)\n",
    "parser.add_argument('--rng-deterministic', default=True, type=lambda x: (str(x).lower() == 'true'))\n",
    "parser.add_argument('--p', type=float, default=0.95)\n",
    "parser.add_argument('--t', type=float, default=0.2)\n",
    "parser.add_argument('--max-length', type=int, default=256)\n",
    "parser.add_argument('--num-samples', type=int, default=1)\n",
    "parser.add_argument('--fp16', default=True, type=lambda x: (str(x).lower() == 'true'))\n",
    "parser.add_argument('--context', type=str, default='1')\n",
    "parser.add_argument('--sanity', default=True, type=lambda x: (str(x).lower() == 'true'))\n",
    "parser.add_argument('--flash-attention', default=False, type=lambda x: (str(x).lower() == 'true'))\n",
    "parser.add_argument('--ragged-batches', default=False, type=lambda x: (str(x).lower() == 'true'))\n",
    "args = parser.parse_args('--fp16 False --ragged-batches true --model progen2-small'.split(' '))"
   ]
  },
  {
   "cell_type": "code",
   "execution_count": 5,
   "id": "9dfdc91a-af65-4daf-8588-bb2da38a798d",
   "metadata": {},
   "outputs": [],
   "source": [
    "device = 'cuda'"
   ]
  },
  {
   "cell_type": "code",
   "execution_count": 6,
   "id": "78f97005-e8b2-452c-a0f1-0b7b897b00d4",
   "metadata": {},
   "outputs": [],
   "source": [
    "ckpt = Path(CHECKPOINT_DIR) / args.model"
   ]
  },
  {
   "cell_type": "code",
   "execution_count": 7,
   "id": "e753087a-ae24-4d7a-aa7e-bb647265af13",
   "metadata": {},
   "outputs": [
    {
     "name": "stderr",
     "output_type": "stream",
     "text": [
      "ProGenForCausalLM has generative capabilities, as `prepare_inputs_for_generation` is explicitly overwritten. However, it doesn't directly inherit from `GenerationMixin`. From 👉v4.50👈 onwards, `PreTrainedModel` will NOT inherit from `GenerationMixin`, and this model will lose the ability to call `generate` and other related functions.\n",
      "  - If you're using `trust_remote_code=True`, you can get rid of this warning by loading the model with an auto class. See https://huggingface.co/docs/transformers/en/model_doc/auto#auto-classes\n",
      "  - If you are the owner of the model architecture code, please modify your model class such that it inherits from `GenerationMixin` (after `PreTrainedModel`, otherwise you'll get an exception).\n",
      "  - If you are not the owner of the model architecture class, please contact the model code owner to update it.\n"
     ]
    }
   ],
   "source": [
    "model = create_model(ckpt=ckpt, fp16=args.fp16, flash_attention=args.flash_attention, ragged_batches=args.ragged_batches).to(device)"
   ]
  },
  {
   "cell_type": "code",
   "execution_count": 8,
   "id": "f8eceb7d-02e6-45bf-ae58-58f95531c852",
   "metadata": {},
   "outputs": [],
   "source": [
    "orig_model = create_model(ckpt=ckpt, fp16=args.fp16, flash_attention=False, ragged_batches=False).to(device)"
   ]
  },
  {
   "cell_type": "code",
   "execution_count": 9,
   "id": "ee757feb-07c6-41a5-bc4c-ce1ca2680032",
   "metadata": {},
   "outputs": [],
   "source": [
    "tokenizer = create_tokenizer_custom(file='tokenizer.json')"
   ]
  },
  {
   "cell_type": "code",
   "execution_count": 10,
   "id": "eb286933-945d-42fc-bf7c-28e52ba4837e",
   "metadata": {},
   "outputs": [],
   "source": [
    "from collections import UserDict\n",
    "\n",
    "class D(UserDict):\n",
    "    def to(self, device):\n",
    "        for k, v in self.data.items():\n",
    "            self.data[k] = v.to(device)\n",
    "        return self\n",
    "    def __getattr__(self, key):\n",
    "        return self.data[key]\n",
    "        \n",
    "\n",
    "def pad_batch(input_ids, pad_token_id, padding_side='left'):\n",
    "    '''\n",
    "    Args:\n",
    "        input_ids: List[List[int]]\n",
    "        pad_token_id: int\n",
    "        padding_side: 'left' | 'right'\n",
    "    Returns:\n",
    "        input_ids: Tensor\n",
    "        attention_mask: tensor\n",
    "    '''\n",
    "    max_len = max(len(ls) for ls in input_ids)\n",
    "    if padding_side == 'left':\n",
    "        padded = [\n",
    "            (max_len - len(seq)) * [pad_token_id] + seq\n",
    "            for seq in input_ids\n",
    "        ]\n",
    "        attention_mask = [\n",
    "            (max_len - len(seq)) * [0] + len(seq) * [1]\n",
    "            for seq in input_ids\n",
    "        ]\n",
    "    else:\n",
    "        padded = [\n",
    "            seq + (max_len - len(seq)) * [pad_token_id]\n",
    "            for seq in input_ids\n",
    "        ]\n",
    "        attention_mask = [\n",
    "            len(seq) * [1] + (max_len - len(seq)) * [pad_token_id]\n",
    "            for seq in input_ids\n",
    "        ]\n",
    "    return D(**{\n",
    "        'input_ids': torch.tensor(padded, dtype=torch.long),\n",
    "        'attention_mask': torch.tensor(attention_mask, dtype=torch.long)\n",
    "    })\n",
    "    "
   ]
  },
  {
   "cell_type": "code",
   "execution_count": 32,
   "id": "fc1632cb-aec9-479a-bed3-c7716a26ca8b",
   "metadata": {},
   "outputs": [],
   "source": [
    "x_uniref90bfd30 = '2GFLPFRGADEGLAAREAATLAARGTAARAYREDSWAVPVPRGLLGDLTARVAALGAASPPPADPLAVTLDLHHVTAEVALTTVLDAATLVHGQTRVLSAEDAAEAATAAAAATEAYLERLQDFVLFMSASVRVWRRGNAAGATGPEWDQWYTVADRDALGSAPTHLAVLGRQADALCHFVLDRVAWGTCGTPLWSGDEDLGNVVATFAGYADRLATAPRDLIM1'\n",
    "x1 = '2GLLGDLTARVAALGAASPPPADPLAVTLDLHHVTAEVALTTVLDAATLVHGQTRVLSAEDAAE1'\n",
    "x2 = '2VA|LTTVLDAATLVHGQTRVLSAEDAAEAATAAAAATEAYLERLQDFVLFMSASVRVWRRGNAAGATGPEWDQWYTVADRDALGSAPT1'\n",
    "x3 = '2EWDQWYTVADRDALGSAPTHLAVLGRQADALCHFVLDRVAWGTCGTPLWSGDEDLGNVVATFAGYADRLATAPRDLIMPPADPLAVTLDLHHVTAEVALTTVLDAATLVHGQTRVLSAEDAAEAATAAAA1'\n",
    "inputs = tokenizer.encode_batch([x_uniref90bfd30, x1, x2, x3])"
   ]
  },
  {
   "cell_type": "code",
   "execution_count": 33,
   "id": "627e3e50-1811-40e7-a09d-793ad9e168db",
   "metadata": {},
   "outputs": [],
   "source": [
    "pad_token_id, = tokenizer.encode('<|pad|>').ids\n",
    "inputs = pad_batch([x.ids for x in inputs], pad_token_id).to(device)"
   ]
  },
  {
   "cell_type": "code",
   "execution_count": 34,
   "id": "4446ba41-1330-4639-8295-84f458a240bf",
   "metadata": {},
   "outputs": [],
   "source": [
    "with torch.no_grad():\n",
    "    outputs = model(**inputs, output_hidden_states=True)\n",
    "    orig_outputs = orig_model(**inputs, output_hidden_states=True)"
   ]
  },
  {
   "cell_type": "code",
   "execution_count": 28,
   "id": "f65514b1-fde6-4b0a-a30d-6b12e47f326d",
   "metadata": {},
   "outputs": [],
   "source": [
    "import seaborn as sns"
   ]
  },
  {
   "cell_type": "code",
   "execution_count": 29,
   "id": "d49c6da2-5725-4cd7-9aba-199b8d6d24c7",
   "metadata": {},
   "outputs": [],
   "source": [
    "def kl(p_logits, q_logits, dim=-1, keepdim=False):\n",
    "    p_Z = p_logits.logsumexp(dim=dim, keepdim=True)\n",
    "    p_probs = (p_logits - p_Z).exp()\n",
    "    q_Z = q_logits.logsumexp(dim=dim, keepdim=True)\n",
    "    return (p_probs * (p_logits - p_Z - q_logits + q_Z)).sum(dim=dim, keepdim=keepdim)\n",
    "    "
   ]
  },
  {
   "cell_type": "code",
   "execution_count": 35,
   "id": "d5bddee3-cf58-4bde-82cb-76bfcb4dcde7",
   "metadata": {},
   "outputs": [
    {
     "data": {
      "text/plain": [
       "<Axes: >"
      ]
     },
     "execution_count": 35,
     "metadata": {},
     "output_type": "execute_result"
    },
    {
     "data": {
      "image/png": "[encoded data removed]",
      "text/plain": [
       "<Figure size 640x480 with 2 Axes>"
      ]
     },
     "metadata": {},
     "output_type": "display_data"
    }
   ],
   "source": [
    "sns.heatmap(torch.where(inputs.attention_mask.bool(), kl(outputs.logits, orig_outputs.logits), 0).cpu().numpy())"
   ]
  },
  {
   "cell_type": "code",
   "execution_count": 37,
   "id": "973ad223-aefc-4b10-a888-f1535667415e",
   "metadata": {},
   "outputs": [
    {
     "data": {
      "text/plain": [
       "<Axes: >"
      ]
     },
     "execution_count": 37,
     "metadata": {},
     "output_type": "execute_result"
    },
    {
     "data": {
      "image/png": "[encoded data removed]",
      "text/plain": [
       "<Figure size 640x480 with 2 Axes>"
      ]
     },
     "metadata": {},
     "output_type": "display_data"
    }
   ],
   "source": [
    "sns.heatmap(torch.where(inputs.attention_mask.bool(), (outputs.logits-orig_outputs.logits).norm(dim=-1), 0).cpu().numpy())"
   ]
  },
  {
   "cell_type": "code",
   "execution_count": 14,
   "id": "fd1f7f15-4edf-41c6-934f-c133101e9f8d",
   "metadata": {},
   "outputs": [],
   "source": [
    "x_uniref90bfd30 = '2GFLPFRGADEGLAAREAATLAARGTAARAYREDSWAVPVPRGLLGDLTARVAALGAASPPPADPLAVTLDLHHVTAEVALTTVLDAATLVHGQTRVLSAEDAAEAATAAAAATEAYLERLQDFVLFMSASVRVWRRGNAAGATGPEWDQWYTVADRDALGSAPTHLAVLGRQADALCHFVLDRVAWGTCGTPLWSGDEDLGNVVATFAGYADRLATAPRDLIM1'\n",
    "x1 = '2GLLGDLTARVAALGAASPPPADPLAVTLDLHHVTAEVALTTVLDAATLVHGQTRVLSAEDAAE1'\n",
    "x2 = '2VA|LTTVLDAATLVHGQTRVLSAEDAAEAATAAAAATEAYLERLQDFVLFMSASVRVWRRGNAAGATGPEWDQWYTVADRDALGSAPT1'\n",
    "x3 = '2EWDQWYTVADRDALGSAPTHLAVLGRQADALCHFVLDRVAWGTCGTPLWSGDEDLGNVVATFAGYADRLATAPRDLIMPPADPLAVTLDLHHVTAEVALTTVLDAATLVHGQTRVLSAEDAAEAATAAAA1'\n",
    "inputs = tokenizer.encode_batch([x_uniref90bfd30])"
   ]
  },
  {
   "cell_type": "code",
   "execution_count": 39,
   "id": "04ded5ea-e267-4bdb-8455-be7a098aa59d",
   "metadata": {},
   "outputs": [],
   "source": [
    "pad_token_id, = tokenizer.encode('<|pad|>').ids\n",
    "inputs = pad_batch([x.ids for x in inputs], pad_token_id).to(device)"
   ]
  },
  {
   "cell_type": "code",
   "execution_count": 40,
   "id": "aba660b8-8118-4451-ae32-e18f63dc06a5",
   "metadata": {},
   "outputs": [],
   "source": [
    "with torch.no_grad():\n",
    "    outputs = model(**inputs, output_hidden_states=True)\n",
    "    orig_outputs = orig_model(**inputs, output_hidden_states=True)"
   ]
  },
  {
   "cell_type": "code",
   "execution_count": 41,
   "id": "dba9109a-4025-4a7c-93f4-3544e1a86efd",
   "metadata": {},
   "outputs": [
    {
     "data": {
      "text/plain": [
       "<Axes: >"
      ]
     },
     "execution_count": 41,
     "metadata": {},
     "output_type": "execute_result"
    },
    {
     "data": {
      "image/png": "[encoded data removed]",
      "text/plain": [
       "<Figure size 640x480 with 2 Axes>"
      ]
     },
     "metadata": {},
     "output_type": "display_data"
    }
   ],
   "source": [
    "sns.heatmap(torch.where(inputs.attention_mask.bool(), kl(outputs.logits, orig_outputs.logits), 0).cpu().numpy())"
   ]
  },
  {
   "cell_type": "code",
   "execution_count": 42,
   "id": "440c1732-ed48-499a-bbf2-3b4856f764ec",
   "metadata": {},
   "outputs": [
    {
     "data": {
      "text/plain": [
       "<Axes: >"
      ]
     },
     "execution_count": 42,
     "metadata": {},
     "output_type": "execute_result"
    },
    {
     "data": {
      "image/png": "[encoded data removed]",
      "text/plain": [
       "<Figure size 640x480 with 2 Axes>"
      ]
     },
     "metadata": {},
     "output_type": "display_data"
    }
   ],
   "source": [
    "sns.heatmap(torch.where(inputs.attention_mask.bool(), (outputs.logits-orig_outputs.logits).norm(dim=-1), 0).cpu().numpy())"
   ]
  },
  {
   "cell_type": "code",
   "execution_count": 40,
   "id": "6b908e61-a6ab-4940-bec9-48a9f22ca737",
   "metadata": {},
   "outputs": [],
   "source": [
    "partial_inputs = tokenizer.encode_batch([\n",
    "    x_uniref90bfd30[:30],\n",
    "    x1[:15]\n",
    "])\n",
    "\n",
    "pad_token_id, = tokenizer.encode('<|pad|>').ids\n",
    "partial_inputs = pad_batch([x.ids for x in partial_inputs], pad_token_id).to(device)\n"
   ]
  },
  {
   "cell_type": "code",
   "execution_count": 41,
   "id": "ccf990f0-8a6c-4965-a7ad-d8f2c53a8c83",
   "metadata": {},
   "outputs": [],
   "source": [
    "next_inputs = tokenizer.encode_batch([\n",
    "    x_uniref90bfd30[30:40],\n",
    "    x1[15:20]\n",
    "])\n",
    "\n",
    "pad_token_id, = tokenizer.encode('<|pad|>').ids\n",
    "next_inputs = pad_batch([x.ids for x in next_inputs], pad_token_id).to(device)\n"
   ]
  },
  {
   "cell_type": "code",
   "execution_count": 42,
   "id": "1dc842c1-5c82-4ff8-b871-a6db2d748f33",
   "metadata": {},
   "outputs": [],
   "source": [
    "full_outputs = tokenizer.encode_batch([\n",
    "    x_uniref90bfd30[:40],\n",
    "    x1[:20]\n",
    "])\n",
    "\n",
    "pad_token_id, = tokenizer.encode('<|pad|>').ids\n",
    "full_outputs = pad_batch([x.ids for x in full_outputs], pad_token_id).to(device)\n"
   ]
  },
  {
   "cell_type": "code",
   "execution_count": 43,
   "id": "47f9c6f4-c030-40e5-8005-535f067ed9e4",
   "metadata": {},
   "outputs": [],
   "source": [
    "with torch.no_grad():\n",
    "    outputs = model(**partial_inputs, output_hidden_states=True)\n",
    "    # orig_outputs = orig_model(**inputs, output_hidden_states=True)\n",
    "    kv_cache = outputs.past_key_values\n",
    "    new_outputs = model(**next_inputs, use_cache=True, past_key_values=kv_cache)\n",
    "    direct_outputs = model(**full_outputs)"
   ]
  },
  {
   "cell_type": "code",
   "execution_count": 47,
   "id": "ec46faea-2fa6-4f01-8bd1-74cbecd4715f",
   "metadata": {},
   "outputs": [
    {
     "data": {
      "text/plain": [
       "True"
      ]
     },
     "execution_count": 47,
     "metadata": {},
     "output_type": "execute_result"
    }
   ],
   "source": [
    "torch.allclose(new_outputs.logits[0, -10:, :], direct_outputs.logits[0, -10:, :], 1e-3, 1e-3)"
   ]
  },
  {
   "cell_type": "code",
   "execution_count": 48,
   "id": "1f0beb77-f84f-4e55-892a-3436110e41d2",
   "metadata": {},
   "outputs": [
    {
     "data": {
      "text/plain": [
       "True"
      ]
     },
     "execution_count": 48,
     "metadata": {},
     "output_type": "execute_result"
    }
   ],
   "source": [
    "torch.allclose(new_outputs.logits[1, -5:, :], direct_outputs.logits[1, -5:, :], 1e-3, 1e-3)"
   ]
  },
  {
   "cell_type": "code",
   "execution_count": 58,
   "id": "bd825c56-d6d5-4bb9-9271-1e244b1e9c05",
   "metadata": {},
   "outputs": [
    {
     "data": {
      "text/plain": [
       "torch.Size([15, 16, 64])"
      ]
     },
     "execution_count": 58,
     "metadata": {},
     "output_type": "execute_result"
    }
   ],
   "source": [
    "(kv_cache[0][0][1]).shape"
   ]
  },
  {
   "cell_type": "code",
   "execution_count": 53,
   "id": "d7c3d0a9-a78f-4de5-9363-c507a6239515",
   "metadata": {},
   "outputs": [
    {
     "data": {
      "text/plain": [
       "(1, 2, 3)"
      ]
     },
     "execution_count": 53,
     "metadata": {},
     "output_type": "execute_result"
    }
   ],
   "source": [
    "tuple([1, 2, 3])"
   ]
  },
  {
   "cell_type": "code",
   "execution_count": 55,
   "id": "18f38b61-c562-48fb-90e0-598fe493f6ea",
   "metadata": {},
   "outputs": [
    {
     "data": {
      "text/plain": [
       "True"
      ]
     },
     "execution_count": 55,
     "metadata": {},
     "output_type": "execute_result"
    }
   ],
   "source": [
    "isinstance(kv_cache, tuple)"
   ]
  },
  {
   "cell_type": "code",
   "execution_count": 59,
   "id": "e1765860-0eaf-46a7-8354-50cb5da1698b",
   "metadata": {},
   "outputs": [
    {
     "data": {
      "text/plain": [
       "[]"
      ]
     },
     "execution_count": 59,
     "metadata": {},
     "output_type": "execute_result"
    }
   ],
   "source": [
    "list(range(10))[:0]"
   ]
  },
  {
   "cell_type": "code",
   "execution_count": null,
   "id": "aeb50312-c86a-46e2-8d81-ae22c6b39e8d",
   "metadata": {},
   "outputs": [],
   "source": []
  }
 ],
 "metadata": {
  "kernelspec": {
   "display_name": "Python (progen)",
   "language": "python",
   "name": "progen"
  },
  "language_info": {
   "codemirror_mode": {
    "name": "ipython",
    "version": 3
   },
   "file_extension": ".py",
   "mimetype": "text/x-python",
   "name": "python",
   "nbconvert_exporter": "python",
   "pygments_lexer": "ipython3",
   "version": "3.11.10"
  }
 },
 "nbformat": 4,
 "nbformat_minor": 5
}
